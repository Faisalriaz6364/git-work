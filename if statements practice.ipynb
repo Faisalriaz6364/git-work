{
 "cells": [
  {
   "cell_type": "markdown",
   "metadata": {},
   "source": [
    "# If Statements"
   ]
  },
  {
   "cell_type": "code",
   "execution_count": 3,
   "metadata": {},
   "outputs": [
    {
     "name": "stdout",
     "output_type": "stream",
     "text": [
      "a is less than b\n",
      "Hello A\n",
      "Hello B\n",
      "Hello python\n"
     ]
    }
   ],
   "source": [
    "a= 100\n",
    "b=200\n",
    "\n",
    "if a<b:   #returns True\n",
    "    print(\"a is less than b\")\n",
    "    print(\"Hello A\")\n",
    "    print(\"Hello B\")\n",
    "print(\"Hello python\")"
   ]
  },
  {
   "cell_type": "code",
   "execution_count": 6,
   "metadata": {},
   "outputs": [
    {
     "name": "stdout",
     "output_type": "stream",
     "text": [
      "pakistan\n"
     ]
    }
   ],
   "source": [
    "a= 100\n",
    "b=200\n",
    "\n",
    "#if a<b:   #returns True\n",
    "#    print(\"a is less than b\")\n",
    "#    print(\"Hello A\")\n",
    "#    print(\"Hello B\")\n",
    "#print(\"Hello python\")\n",
    "\n",
    "if b<a:  #returns false\n",
    "    print(\"b is less than a\") # this block will not be executed\n",
    "print(\"pakistan\")"
   ]
  }
 ],
 "metadata": {
  "kernelspec": {
   "display_name": "Python 3",
   "language": "python",
   "name": "python3"
  },
  "language_info": {
   "codemirror_mode": {
    "name": "ipython",
    "version": 3
   },
   "file_extension": ".py",
   "mimetype": "text/x-python",
   "name": "python",
   "nbconvert_exporter": "python",
   "pygments_lexer": "ipython3",
   "version": "3.7.6"
  }
 },
 "nbformat": 4,
 "nbformat_minor": 4
}
